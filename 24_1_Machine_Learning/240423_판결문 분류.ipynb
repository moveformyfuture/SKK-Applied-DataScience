{
  "cells": [
    {
      "attachments": {},
      "cell_type": "markdown",
      "metadata": {
        "id": "T9d2pfGC_gYR"
      },
      "source": [
        "### 사전준비"
      ]
    },
    {
      "attachments": {},
      "cell_type": "markdown",
      "metadata": {
        "id": "PoyF_9zh_s7r"
      },
      "source": [
        "### 환경설정\n"
      ]
    },
    {
      "cell_type": "code",
      "execution_count": 1,
      "metadata": {},
      "outputs": [
        {
          "name": "stdout",
          "output_type": "stream",
          "text": [
            "['STIXSizeFourSym', 'STIXNonUnicode', 'DejaVu Sans Mono', 'DejaVu Sans', 'cmtt10', 'STIXGeneral', 'cmsy10', 'STIXSizeFourSym', 'DejaVu Serif', 'STIXSizeFiveSym', 'DejaVu Serif', 'cmss10', 'DejaVu Serif', 'DejaVu Sans', 'STIXSizeOneSym', 'STIXSizeThreeSym', 'DejaVu Sans', 'cmr10', 'STIXSizeThreeSym', 'cmb10', 'DejaVu Serif Display', 'cmmi10', 'STIXSizeOneSym', 'DejaVu Sans Mono', 'STIXGeneral', 'STIXSizeTwoSym', 'cmex10', 'DejaVu Sans Mono', 'DejaVu Sans Mono', 'STIXNonUnicode', 'STIXNonUnicode', 'DejaVu Sans Display', 'DejaVu Serif', 'STIXGeneral', 'STIXNonUnicode', 'DejaVu Sans', 'STIXGeneral', 'STIXSizeTwoSym', 'French Script MT', 'Segoe UI Historic', 'Bookman Old Style', 'Freestyle Script', 'Gadugi', 'Franklin Gothic Medium Cond', 'Copperplate Gothic Light', 'Baskerville Old Face', 'Ami R', 'Comic Sans MS', 'Bodoni MT', 'Segoe UI', 'Palatino Linotype', 'Gulim', 'Broadway', 'Wingdings', 'Bookman Old Style', 'HCR Dotum', 'Perpetua Titling MT', 'Arial', 'Mistral', 'Yu Gothic', 'Verdana', 'HYShortSamul-Medium', 'Franklin Gothic Book', 'Century Gothic', 'Gloucester MT Extra Condensed', 'Verdana', 'Copperplate Gothic Light', 'Sitka Small', 'Courier New', 'Garamond', 'Century Gothic', 'Gill Sans MT', 'HYPost-Light', 'Californian FB', 'Onyx', 'Bell MT', 'Arial', 'Microsoft Yi Baiti', 'Ebrima', 'Forte', 'Goudy Stout', 'HCR Batang', 'Ravie', 'Century Gothic', 'Goudy Stout', 'Californian FB', 'Arial', 'Goudy Old Style', 'Bell MT', 'Leelawadee', 'Lucida Bright', 'MV Boli', 'HyhwpEQ', 'Arial', 'Century Schoolbook', 'Footlight MT Light', 'Candara', 'Arial', 'HYShortSamul-Medium', 'Book Antiqua', 'Rage Italic', 'Perpetua', 'Californian FB', 'Comic Sans MS', 'Pristina', 'HYHeadLine-Medium', 'HCR Batang ExtB', 'Gill Sans MT', 'Franklin Gothic Medium Cond', 'Rockwell Extra Bold', 'Modern No. 20', 'Century Gothic', 'Bodoni MT', 'Microsoft Tai Le', 'Courier New', 'Chiller', 'Segoe Print', 'Segoe Script', 'MS Reference Specialty', 'Palatino Linotype', 'Microsoft YaHei', 'Book Antiqua', 'Centaur', 'Goudy Old Style', 'Lucida Sans Typewriter', 'Gill Sans MT', 'Bookshelf Symbol 7', 'Lucida Bright', 'Tw Cen MT', 'Tempus Sans ITC', 'HYPost-Medium', 'Gabriola', 'Microsoft JhengHei', 'Gill Sans MT', 'Berlin Sans FB Demi', 'Palatino Linotype', 'Bodoni MT', 'Lucida Sans', 'MDotum', 'Eras Light ITC', 'Corbel', 'Times New Roman', 'Rockwell', 'Lucida Sans Typewriter', 'Bell MT', 'Comic Sans MS', 'Book Antiqua', 'Nirmala UI', 'Berlin Sans FB', 'HCR Dotum', 'Microsoft Uighur', 'Snap ITC', 'Bodoni MT', 'Monotype Corsiva', 'Georgia', 'Palatino Linotype', 'Georgia', 'Book Antiqua', 'Candara', 'Cambria', 'Franklin Gothic Book', 'Lucida Sans Typewriter', 'Bodoni MT', 'Lucida Console', 'Segoe UI', 'Tw Cen MT Condensed Extra Bold', 'Microsoft YaHei', 'Bodoni MT', 'Verdana', 'Berlin Sans FB', 'Gill Sans Ultra Bold Condensed', 'Candara', 'MoeumT R', 'Verdana', 'Bradley Hand ITC', 'Verdana', 'Ami R', 'Lucida Bright', 'HCR Batang ExtB', 'Segoe UI Symbol', 'Segoe UI Symbol', 'Constantia', 'Tw Cen MT', 'Microsoft New Tai Lue', 'Segoe UI', 'MS Reference Sans Serif', 'MGungJeong', 'Franklin Gothic Demi', 'Century Gothic', 'Microsoft Sans Serif', 'Arial', 'Garamond', 'Lucida Sans Typewriter', 'Corbel', 'Kristen ITC', 'Bodoni MT', 'Harrington', 'Sitka Small', 'Perpetua', 'Microsoft JhengHei', 'Eras Medium ITC', 'MJemokBatang', 'Corbel', 'Goudy Old Style', 'Nirmala UI', 'Trebuchet MS', 'Segoe UI', 'Lucida Sans Typewriter', 'HYMyeongJo-Extra', 'Colonna MT', 'Arial', 'Edwardian Script ITC', 'Century', 'Nirmala UI', 'Myanmar Text', 'New Gulim', 'HyhwpEQ', 'Onyx', 'Calibri', 'Franklin Gothic Demi Cond', 'Rage Italic', 'Bodoni MT', 'Georgia', 'Berlin Sans FB Demi', 'Bookman Old Style', 'Segoe UI', 'Pristina', 'Segoe UI', 'Arial', 'Calibri', 'Dubai', 'Century Schoolbook', 'Tahoma', 'Malgun Gothic', 'Segoe Script', 'Rockwell Condensed', 'Bookman Old Style', 'Microsoft Sans Serif', 'HYGraphic-Medium', 'Footlight MT Light', 'Segoe UI', 'Segoe UI', 'Showcard Gothic', 'Franklin Gothic Heavy', 'Magneto', 'Consolas', 'Script MT Bold', 'Microsoft YaHei', 'KBIZgo R', 'Arial', 'Segoe Print', 'Agency FB', 'Perpetua Titling MT', 'Franklin Gothic Medium', 'Calisto MT', 'Gabriola', 'Magneto', 'Kunstler Script', 'Book Antiqua', 'HYGungSo-Bold', 'Centaur', 'Verdana', 'Ink Free', 'Lucida Bright', 'Lucida Sans Typewriter', 'Microsoft Yi Baiti', 'Perpetua', 'Sitka Small', 'HCR Dotum Ext', 'Rockwell Condensed', 'Candara', 'Blackadder ITC', 'Courier New', 'MSugiJeong', 'Microsoft Uighur', 'Franklin Gothic Demi Cond', 'High Tower Text', 'Georgia', 'Castellar', 'MS Reference Specialty', 'Microsoft Tai Le', 'Kristen ITC', 'Monotype Corsiva', 'Forte', 'MHunmin', 'HoloLens MDL2 Assets', 'Baskerville Old Face', 'Franklin Gothic Medium', 'Garamond', 'HCR Dotum', 'OCR A Extended', 'Tahoma', 'Dubai', 'Segoe UI', 'Gill Sans MT Condensed', 'Segoe UI', 'Candara', 'Dubai', 'Eras Bold ITC', 'Gill Sans MT Ext Condensed Bold', 'Ebrima', 'Yu Gothic', 'Calisto MT', 'Curlz MT', 'Perpetua Titling MT', 'Rockwell', 'HYGothic-Medium', 'Trebuchet MS', 'Calibri', 'Harlow Solid Italic', 'Palatino Linotype', 'Symbol', 'Microsoft YaHei', 'Curlz MT', 'Berlin Sans FB', 'Informal Roman', 'Segoe UI', 'Consolas', 'Palatino Linotype', 'Playbill', 'Century Schoolbook', 'Microsoft PhagsPa', 'Lucida Bright', 'MingLiU-ExtB', 'Pyunji R', 'Wide Latin', 'Niagara Engraved', 'Lucida Handwriting', 'Bauhaus 93', 'Century Gothic', 'Candara', 'HYGraphic-Medium', 'HYMyeongJo-Extra', 'Franklin Gothic Heavy', 'Comic Sans MS', 'Sitka Small', 'HCR Batang ExtB', 'SimSun', 'Magic R', 'Calibri', 'MingLiU-ExtB', 'Matura MT Script Capitals', 'Elephant', 'Ravie', 'Eras Demi ITC', 'High Tower Text', 'Malgun Gothic', 'Book Antiqua', 'Nirmala UI', 'Dubai', 'Leelawadee UI', 'Sylfaen', 'Segoe UI Emoji', 'Calibri', 'Californian FB', 'Corbel', 'Segoe UI', 'Courier New', 'Tw Cen MT Condensed', 'Harlow Solid Italic', 'Perpetua', 'Franklin Gothic Medium', 'Trebuchet MS', 'Corbel', 'Pyunji R', 'Poor Richard', 'Courier New', 'Elephant', 'Cambria', 'Lucida Fax', 'Century Schoolbook', 'Gill Sans MT', 'Bodoni MT', 'Constantia', 'Bookman Old Style', 'Chiller', 'Agency FB', 'Verdana', 'Perpetua Titling MT', 'Broadway', 'Lucida Bright', 'Calibri', 'Franklin Gothic Heavy', 'Myanmar Text', 'Juice ITC', 'KBIZgo B', 'Segoe UI', 'Calisto MT', 'Consolas', 'HYGothic-Extra', 'Mongolian Baiti', 'Segoe UI Historic', 'Constantia', 'Palace Script MT', 'Calibri', 'Georgia', 'Dubai', 'MHunmin', 'Rockwell', 'Algerian', 'MS Gothic', 'Agency FB', 'Lucida Sans Typewriter', 'Corbel', 'Maiandra GD', 'Kunstler Script', 'Gulim', 'Malgun Gothic', 'Segoe Script', 'Showcard Gothic', 'Bell MT', 'Consolas', 'Algerian', 'Trebuchet MS', 'Microsoft Himalaya', 'Lucida Sans', 'Calisto MT', 'Brush Script MT', 'Cambria', 'High Tower Text', 'Georgia', 'Lucida Console', 'Webdings', 'Yet R', 'Blackadder ITC', 'HYPMokGak-Bold', 'Niagara Solid', 'Bodoni MT', 'Arial', 'Bodoni MT', 'Sitka Small', 'NewJumja', 'Century Gothic', 'MS Reference Sans Serif', 'Snap ITC', 'MS Outlook', 'Corbel', 'New Gulim', 'Yu Gothic', 'Yet R', 'Garamond', 'Lucida Fax', 'Book Antiqua', 'HCR Batang', 'Brush Script MT', 'Edwardian Script ITC', 'KBIZmjo M', 'Bodoni MT', 'Microsoft New Tai Lue', 'Lucida Handwriting', 'Calibri', 'Segoe UI', 'Lucida Bright', 'Franklin Gothic Medium', 'Papyrus', 'Viner Hand ITC', 'Lucida Sans', 'Wingdings 3', 'MSugiHeulim', 'Trebuchet MS', 'Calibri', 'SimSun-ExtB', 'Tw Cen MT', 'Comic Sans MS', 'Consolas', 'Gadugi', 'MDotum', 'Eras Demi ITC', 'Javanese Text', 'Candara', 'MT Extra', 'Berlin Sans FB', 'Wingdings', 'Goudy Old Style', 'Poor Richard', 'Tw Cen MT', 'Lucida Fax', 'Leelawadee', 'Headline R', 'Calisto MT', 'Century Schoolbook', 'Garamond', 'Yu Gothic', 'Bookshelf Symbol 7', 'Yu Gothic', 'Elephant', 'Mistral', 'Tempus Sans ITC', 'Imprint MT Shadow', 'Lucida Fax', 'Old English Text MT', 'Microsoft JhengHei', 'Microsoft YaHei', 'Book Antiqua', 'Rockwell', 'MJemokBatang', 'Constantia', 'SimSun-ExtB', 'Bahnschrift', 'Times New Roman', 'Rockwell', 'Harrington', 'Segoe UI', 'Rockwell', 'Comic Sans MS', 'Eras Medium ITC', 'Bodoni MT', 'Segoe Print', 'Malgun Gothic', 'Times New Roman', 'Calisto MT', 'Dubai', 'Wide Latin', 'Arial', 'Garamond', 'MGungJeong', 'Myanmar Text', 'Jokerman', 'Tw Cen MT Condensed', 'Georgia', 'HCR Dotum', 'Gadugi', 'HCR Batang', 'Wingdings 2', 'Bernard MT Condensed', 'Bodoni MT', 'Arial Rounded MT Bold', 'HCR Batang', 'Tw Cen MT', 'Rockwell Extra Bold', 'Leelawadee UI', 'Lucida Calligraphy', 'Tahoma', 'Informal Roman', 'Tw Cen MT', 'Constantia', 'Niagara Solid', 'HYGothic-Extra', 'Franklin Gothic Heavy', 'Arial', 'Gill Sans MT', 'Segoe UI', 'Segoe UI', 'Lucida Fax', 'Gill Sans Ultra Bold', 'Segoe MDL2 Assets', 'MJemokGothic', 'Century Schoolbook', 'Elephant', 'Britannic Bold', 'Rockwell Condensed', 'Microsoft New Tai Lue', 'Juice ITC', 'Lucida Calligraphy', 'Parchment', 'Segoe UI', 'Franklin Gothic Demi', 'HCR Dotum Ext', 'MoeumT R', 'Consolas', 'Perpetua', 'HoloLens MDL2 Assets', 'Segoe UI', 'Tahoma', 'Bell MT', 'Rockwell', 'Bauhaus 93', 'Leelawadee UI', 'Ebrima', 'Cambria', 'Playbill', 'Batang', 'Vladimir Script', 'Nirmala UI', 'Calibri', 'Bookman Old Style', 'Century Schoolbook', 'Myanmar Text', 'Franklin Gothic Demi', 'Microsoft Uighur', 'Candara', 'Consolas', 'Leelawadee UI', 'Modern No. 20', 'Goudy Old Style', 'Gloucester MT Extra Condensed', 'Gill Sans MT Ext Condensed Bold', 'Arial', 'MBatang', 'Webdings', 'MBatang', 'Dubai', 'NewJumja', 'Yu Gothic', 'Cambria', 'MGungHeulim', 'Malgun Gothic', 'HYGungSo-Bold', 'Sylfaen', 'Candara', 'MT Extra', 'Microsoft Uighur', 'HYPMokGak-Bold', 'Calisto MT', 'Georgia', 'Imprint MT Shadow', 'HYPost-Medium', 'Times New Roman', 'Bell MT', 'Microsoft YaHei', 'Segoe UI Emoji', 'Bradley Hand ITC', 'Arial', 'Stencil', 'HYSinMyeongJo-Medium', 'Bodoni MT', 'Headline R', 'Malgun Gothic', 'Cooper Black', 'Batang', 'Agency FB', 'Century Gothic', 'Dubai', 'Marlett', 'Bahnschrift', 'Sitka Small', 'Bernard MT Condensed', 'Candara', 'Goudy Old Style', 'Californian FB', 'Lucida Bright', 'KBIZgo M', 'Cooper Black', 'Bookman Old Style', 'Verdana', 'Impact', 'Lucida Fax', 'Calisto MT', 'Corbel', 'Lucida Sans', 'Sitka Small', 'High Tower Text', 'Rockwell', 'Segoe UI', 'Microsoft Himalaya', 'Times New Roman', 'HCR Batang Ext', 'Arial', 'Microsoft New Tai Lue', 'HYPost-Light', 'Microsoft PhagsPa', 'Sitka Small', 'MV Boli', 'Franklin Gothic Demi', 'Californian FB', 'Gigi', 'Lucida Sans Unicode', 'Felix Titling', 'Corbel', 'SimSun', 'MGungHeulim', 'MSugiHeulim', 'Bookman Old Style', 'Century Schoolbook', 'Courier New', 'Leelawadee UI', 'Engravers MT', 'Microsoft JhengHei', 'HYHeadLine-Medium', 'Segoe UI', 'Perpetua', 'Arial', 'Stencil', 'Wingdings 3', 'Microsoft JhengHei', 'Haettenschweiler', 'Lucida Fax', 'Maiandra GD', 'Palatino Linotype', 'Freestyle Script', 'Gigi', 'Tw Cen MT Condensed', 'Palatino Linotype', 'Arial Rounded MT Bold', 'Eras Bold ITC', 'Lucida Sans', 'Lucida Sans Typewriter', 'Lucida Sans Unicode', 'Bodoni MT', 'Niagara Engraved', 'Papyrus', 'Lucida Sans', 'HYGothic-Medium', 'Corbel', 'Perpetua', 'Engravers MT', 'Courier New', 'Gill Sans MT', 'Microsoft PhagsPa', 'Bodoni MT', 'Copperplate Gothic Bold', 'Script MT Bold', 'Matura MT Script Capitals', 'Cambria', 'Segoe UI', 'Viner Hand ITC', 'Tw Cen MT', 'Wingdings 2', 'Constantia', 'Leelawadee', 'Bodoni MT', 'HCR Batang Ext', 'Symbol', 'MS Outlook', 'Vivaldi', 'Yu Gothic', 'Cambria', 'Parchment', 'KBIZmjo R', 'Bodoni MT', 'Yu Gothic', 'Times New Roman', 'Franklin Gothic Book', 'Nirmala UI', 'Arial', 'Microsoft Tai Le', 'Tw Cen MT', 'Corbel', 'Vladimir Script', 'MJemokGothic', 'Gadugi', 'OCR A Extended', 'Lucida Fax', 'Times New Roman', 'Comic Sans MS', 'Rockwell Condensed', 'MSugiJeong', 'Calibri', 'Javanese Text', 'Eras Light ITC', 'Gill Sans MT', 'Calibri', 'Gill Sans Ultra Bold Condensed', 'Bodoni MT', 'Mongolian Baiti', 'Impact', 'Leelawadee UI', 'Candara', 'KBIZmjo B', 'Old English Text MT', 'Corbel', 'Comic Sans MS', 'Courier New', 'Vivaldi', 'Constantia', 'MS Gothic', 'Jokerman', 'Leelawadee', 'Ink Free', 'Perpetua', 'Colonna MT', 'Magic R', 'Britannic Bold', 'Haettenschweiler', 'HCR Batang ExtB', 'Times New Roman', 'Cambria', 'Tw Cen MT Condensed Extra Bold', 'Franklin Gothic Book', 'Microsoft PhagsPa', 'Microsoft JhengHei', 'Constantia', 'Consolas', 'Lucida Sans', 'Copperplate Gothic Bold', 'Gill Sans Ultra Bold', 'Ebrima', 'Segoe UI', 'Lucida Sans', 'Microsoft Tai Le', 'Tw Cen MT Condensed', 'Bodoni MT', 'Castellar', 'Trebuchet MS', 'Bodoni MT', 'Segoe MDL2 Assets', 'Segoe UI', 'Palace Script MT', 'Trebuchet MS', 'French Script MT', 'HYSinMyeongJo-Medium', 'Felix Titling', 'Candara', 'Segoe Print', 'Century', 'Segoe Script', 'Trebuchet MS', 'Gill Sans MT Condensed', 'Arial']\n"
          ]
        }
      ],
      "source": [
        "# 한글 깨짐을 방지하는 코드\n",
        "import matplotlib.pyplot as plt\n",
        "\n",
        "# 가능한 font list 확인\n",
        "import matplotlib.font_manager as fm\n",
        "f = [f.name for f in fm.fontManager.ttflist]\n",
        "print(f)\n",
        "\n",
        "# 확인 이후\n",
        "plt.rc('font', family='Malgun Gothic')"
      ]
    },
    {
      "cell_type": "code",
      "execution_count": 2,
      "metadata": {
        "id": "5M90KUrJ_fL1"
      },
      "outputs": [],
      "source": [
        "import pandas as pd\n",
        "import numpy as np\n",
        "import re\n",
        "import io\n",
        "import os\n",
        "from tqdm.notebook import tqdm\n",
        "tqdm.pandas()\n",
        "from torch.utils.data import Dataset, DataLoader\n",
        "from ml_things import plot_dict, plot_confusion_matrix, fix_text\n",
        "from sklearn.metrics import classification_report, accuracy_score\n",
        "\n",
        "# GPU 메모리 및 최대 시퀀스 길이에 따른 배치 수 설정이 필요\n",
        "# 시퀀스 길이가 짧다면 32 이상의 배치 사이즈를 사용하는 것이 가능\n",
        "batch_size = 32\n",
        "\n",
        "data_path ='./archive/라벨링데이터/판결문'\n",
        "\n",
        "# 분류 라벨\n",
        "labels_ids = {'01_주장':0, '02_사실':1, '03_판단':2, '04_결론':3}\n",
        "\n",
        "# How many labels are we using in training.\n",
        "# This is used to decide size of classification head.\n",
        "n_labels = len(labels_ids)"
      ]
    },
    {
      "attachments": {},
      "cell_type": "markdown",
      "metadata": {
        "id": "TOV7a7heAE7z"
      },
      "source": [
        "### 학습데이터 전처리"
      ]
    },
    {
      "cell_type": "code",
      "execution_count": 3,
      "metadata": {
        "id": "EocADwxX_fTy"
      },
      "outputs": [],
      "source": [
        "import json\n",
        "def is_json_key_present(json, key):\n",
        "    try:\n",
        "        buf = json[key]\n",
        "    except KeyError:\n",
        "        return False\n",
        "    return True\n",
        "\n",
        "class JsonDataset(Dataset):\n",
        " \n",
        "\n",
        "  def __init__(self, path):\n",
        "\n",
        "    # Check if path exists.\n",
        "    if not os.path.isdir(path):\n",
        "      # Raise error if path is invalid.\n",
        "      raise ValueError('Invalid `path` variable! Needs to be a directory')\n",
        "    self.texts = []\n",
        "    self.labels = []\n",
        "\n",
        "    \n",
        "    for label in ['01.민사', '02.형사', '03.행정']:\n",
        "      sentiment_path = os.path.join(path, label)\n",
        "\n",
        "      # Get all files from path.\n",
        "      for (root, directories, files) in os.walk(sentiment_path):\n",
        "      # Go through each file and read its content.\n",
        "        for file_name in tqdm(files, desc=f'{root} files'):\n",
        "          file_path = os.path.join(root, file_name)          \n",
        "          with open(file_path, \"r\") as json_file:\n",
        "            json_data  =  json.load(json_file)        \n",
        "            if(is_json_key_present(json_data,\"assrs\") and is_json_key_present(json_data['assrs'],\"acusrAssrs\")) :             \n",
        "              for data in json_data['assrs']['acusrAssrs'] :\n",
        "                self.texts.append(fix_text(data))\n",
        "                self.labels.append('01_주장')\n",
        "\n",
        "            if(is_json_key_present(json_data,\"assrs\") and is_json_key_present(json_data['assrs'],\"dedatAssrs\")) :\n",
        "              for data in json_data['assrs']['dedatAssrs'] :\n",
        "                self.texts.append(fix_text(data))\n",
        "                self.labels.append('01_주장')\n",
        "\n",
        "            if(is_json_key_present(json_data,\"facts\") and is_json_key_present(json_data['facts'],\"bsisFacts\")) :\n",
        "              for data in json_data['facts']['bsisFacts'] :\n",
        "                self.texts.append(fix_text(data))\n",
        "                self.labels.append('02_사실')\n",
        "\n",
        "        \n",
        "            if(is_json_key_present(json_data,\"dcss\") and is_json_key_present(json_data['dcss'],\"courtDcss\")) :\n",
        "              for data in json_data['dcss']['courtDcss'] :\n",
        "                self.texts.append(fix_text(data))\n",
        "                self.labels.append('03_판단')\n",
        "      \n",
        "            if(is_json_key_present(json_data,\"close\") and is_json_key_present(json_data['close'],\"cnclsns\")) :\n",
        "              for data in json_data['close']['cnclsns'] :\n",
        "\n",
        "                self.texts.append(fix_text(data))\n",
        "                self.labels.append('04_결론')\n",
        "    # Number of exmaples.\n",
        "    self.n_examples = len(self.labels)\n",
        "    return\n",
        "  \n",
        "  def __len__(self):\n",
        "    return self.n_examples\n",
        "\n",
        "  def __getitem__(self, item):\n",
        "    return {'text':self.texts[item],\n",
        "            'label':self.labels[item]}"
      ]
    },
    {
      "attachments": {},
      "cell_type": "markdown",
      "metadata": {
        "id": "R4xr2V1aAJjy"
      },
      "source": [
        "### 모델 초기화"
      ]
    },
    {
      "attachments": {},
      "cell_type": "markdown",
      "metadata": {
        "id": "6REEvvVqYByF"
      },
      "source": [
        "## 학습데이터 LOAD\n"
      ]
    },
    {
      "cell_type": "code",
      "execution_count": 4,
      "metadata": {
        "id": "Si_d402r_fYN"
      },
      "outputs": [
        {
          "data": {
            "application/vnd.jupyter.widget-view+json": {
              "model_id": "b937293fabfa45468aa6348cb1b46770",
              "version_major": 2,
              "version_minor": 0
            },
            "text/plain": [
              "./archive/라벨링데이터/판결문\\01.민사 files: 0it [00:00, ?it/s]"
            ]
          },
          "metadata": {},
          "output_type": "display_data"
        },
        {
          "data": {
            "application/vnd.jupyter.widget-view+json": {
              "model_id": "b13bb3d0495a4edcba501ae6292824c5",
              "version_major": 2,
              "version_minor": 0
            },
            "text/plain": [
              "./archive/라벨링데이터/판결문\\01.민사\\1981~2016 files:   0%|          | 0/3257 [00:00<?, ?it/s]"
            ]
          },
          "metadata": {},
          "output_type": "display_data"
        },
        {
          "data": {
            "application/vnd.jupyter.widget-view+json": {
              "model_id": "cf566d230d1e403b9e7bc9480abdedd5",
              "version_major": 2,
              "version_minor": 0
            },
            "text/plain": [
              "./archive/라벨링데이터/판결문\\01.민사\\2017 files:   0%|          | 0/225 [00:00<?, ?it/s]"
            ]
          },
          "metadata": {},
          "output_type": "display_data"
        },
        {
          "data": {
            "application/vnd.jupyter.widget-view+json": {
              "model_id": "04308299ce6d45ffb486ec0dfa25c611",
              "version_major": 2,
              "version_minor": 0
            },
            "text/plain": [
              "./archive/라벨링데이터/판결문\\01.민사\\2018 files:   0%|          | 0/154 [00:00<?, ?it/s]"
            ]
          },
          "metadata": {},
          "output_type": "display_data"
        },
        {
          "data": {
            "application/vnd.jupyter.widget-view+json": {
              "model_id": "101ed6d7df764fb39a584f1915fff7a1",
              "version_major": 2,
              "version_minor": 0
            },
            "text/plain": [
              "./archive/라벨링데이터/판결문\\01.민사\\2019 files:   0%|          | 0/81 [00:00<?, ?it/s]"
            ]
          },
          "metadata": {},
          "output_type": "display_data"
        },
        {
          "data": {
            "application/vnd.jupyter.widget-view+json": {
              "model_id": "824abe61703c4dd38d68277c02aaba3d",
              "version_major": 2,
              "version_minor": 0
            },
            "text/plain": [
              "./archive/라벨링데이터/판결문\\01.민사\\2020 files:   0%|          | 0/50 [00:00<?, ?it/s]"
            ]
          },
          "metadata": {},
          "output_type": "display_data"
        },
        {
          "data": {
            "application/vnd.jupyter.widget-view+json": {
              "model_id": "a14868f6e654477aab56545d935d02c4",
              "version_major": 2,
              "version_minor": 0
            },
            "text/plain": [
              "./archive/라벨링데이터/판결문\\01.민사\\2021 files:   0%|          | 0/32 [00:00<?, ?it/s]"
            ]
          },
          "metadata": {},
          "output_type": "display_data"
        },
        {
          "data": {
            "application/vnd.jupyter.widget-view+json": {
              "model_id": "e1ab8ee489d245d68b6aa9d528a2ee93",
              "version_major": 2,
              "version_minor": 0
            },
            "text/plain": [
              "./archive/라벨링데이터/판결문\\02.형사 files: 0it [00:00, ?it/s]"
            ]
          },
          "metadata": {},
          "output_type": "display_data"
        },
        {
          "data": {
            "application/vnd.jupyter.widget-view+json": {
              "model_id": "2bc56273d3be40c092a4ce569d8e81ef",
              "version_major": 2,
              "version_minor": 0
            },
            "text/plain": [
              "./archive/라벨링데이터/판결문\\02.형사\\1981~2016 files:   0%|          | 0/1454 [00:00<?, ?it/s]"
            ]
          },
          "metadata": {},
          "output_type": "display_data"
        },
        {
          "data": {
            "application/vnd.jupyter.widget-view+json": {
              "model_id": "f6db43f7197f4d5cbdb8d6a45beb5b12",
              "version_major": 2,
              "version_minor": 0
            },
            "text/plain": [
              "./archive/라벨링데이터/판결문\\02.형사\\2017 files:   0%|          | 0/270 [00:00<?, ?it/s]"
            ]
          },
          "metadata": {},
          "output_type": "display_data"
        },
        {
          "data": {
            "application/vnd.jupyter.widget-view+json": {
              "model_id": "1fd6bf6e6292480483df0dce783da327",
              "version_major": 2,
              "version_minor": 0
            },
            "text/plain": [
              "./archive/라벨링데이터/판결문\\02.형사\\2018 files:   0%|          | 0/317 [00:00<?, ?it/s]"
            ]
          },
          "metadata": {},
          "output_type": "display_data"
        },
        {
          "data": {
            "application/vnd.jupyter.widget-view+json": {
              "model_id": "63bcb4ed30174786bbcaef12856cc531",
              "version_major": 2,
              "version_minor": 0
            },
            "text/plain": [
              "./archive/라벨링데이터/판결문\\02.형사\\2019 files:   0%|          | 0/115 [00:00<?, ?it/s]"
            ]
          },
          "metadata": {},
          "output_type": "display_data"
        },
        {
          "data": {
            "application/vnd.jupyter.widget-view+json": {
              "model_id": "3888fcacade344a883f04ad922d48c1f",
              "version_major": 2,
              "version_minor": 0
            },
            "text/plain": [
              "./archive/라벨링데이터/판결문\\02.형사\\2020 files:   0%|          | 0/112 [00:00<?, ?it/s]"
            ]
          },
          "metadata": {},
          "output_type": "display_data"
        },
        {
          "data": {
            "application/vnd.jupyter.widget-view+json": {
              "model_id": "36df562752684273a44950083842dcbe",
              "version_major": 2,
              "version_minor": 0
            },
            "text/plain": [
              "./archive/라벨링데이터/판결문\\02.형사\\2021 files:   0%|          | 0/60 [00:00<?, ?it/s]"
            ]
          },
          "metadata": {},
          "output_type": "display_data"
        },
        {
          "data": {
            "application/vnd.jupyter.widget-view+json": {
              "model_id": "6d3ae2576d3448f8b576f8e32022d157",
              "version_major": 2,
              "version_minor": 0
            },
            "text/plain": [
              "./archive/라벨링데이터/판결문\\03.행정 files: 0it [00:00, ?it/s]"
            ]
          },
          "metadata": {},
          "output_type": "display_data"
        },
        {
          "data": {
            "application/vnd.jupyter.widget-view+json": {
              "model_id": "0e6b1303aea04b2289f7b46aae722f1f",
              "version_major": 2,
              "version_minor": 0
            },
            "text/plain": [
              "./archive/라벨링데이터/판결문\\03.행정\\1981~2016 files:   0%|          | 0/1424 [00:00<?, ?it/s]"
            ]
          },
          "metadata": {},
          "output_type": "display_data"
        },
        {
          "data": {
            "application/vnd.jupyter.widget-view+json": {
              "model_id": "c9a51192b0b943239ac22c528855cd68",
              "version_major": 2,
              "version_minor": 0
            },
            "text/plain": [
              "./archive/라벨링데이터/판결문\\03.행정\\2017 files:   0%|          | 0/122 [00:00<?, ?it/s]"
            ]
          },
          "metadata": {},
          "output_type": "display_data"
        },
        {
          "data": {
            "application/vnd.jupyter.widget-view+json": {
              "model_id": "df86a614b2334e96be8b879ca9523425",
              "version_major": 2,
              "version_minor": 0
            },
            "text/plain": [
              "./archive/라벨링데이터/판결문\\03.행정\\2018 files:   0%|          | 0/96 [00:00<?, ?it/s]"
            ]
          },
          "metadata": {},
          "output_type": "display_data"
        },
        {
          "data": {
            "application/vnd.jupyter.widget-view+json": {
              "model_id": "75feb0dd172e4758b8c41f222afa4e93",
              "version_major": 2,
              "version_minor": 0
            },
            "text/plain": [
              "./archive/라벨링데이터/판결문\\03.행정\\2019 files:   0%|          | 0/75 [00:00<?, ?it/s]"
            ]
          },
          "metadata": {},
          "output_type": "display_data"
        },
        {
          "data": {
            "application/vnd.jupyter.widget-view+json": {
              "model_id": "775b425407b54ee4a1bb3595133e4672",
              "version_major": 2,
              "version_minor": 0
            },
            "text/plain": [
              "./archive/라벨링데이터/판결문\\03.행정\\2020 files:   0%|          | 0/42 [00:00<?, ?it/s]"
            ]
          },
          "metadata": {},
          "output_type": "display_data"
        },
        {
          "data": {
            "application/vnd.jupyter.widget-view+json": {
              "model_id": "b5564cdf5d7948a897495cdf54d9bc7c",
              "version_major": 2,
              "version_minor": 0
            },
            "text/plain": [
              "./archive/라벨링데이터/판결문\\03.행정\\2021 files:   0%|          | 0/108 [00:00<?, ?it/s]"
            ]
          },
          "metadata": {},
          "output_type": "display_data"
        }
      ],
      "source": [
        "import pandas as pd\n",
        "from sklearn.model_selection import train_test_split\n",
        "\n",
        "# JSON Data \n",
        "dataset = JsonDataset(path=data_path)\n",
        "df = pd.DataFrame.from_records(dataset)\n",
        "df.groupby('label').size()\n",
        "\n",
        "df = df.sample(frac=0.05, random_state=123)\n",
        "\n",
        "df1 = df[df['label'].str.startswith('01')]\n",
        "df2 = df[df['label'].str.startswith('02')]\n",
        "df3 = df[df['label'].str.startswith('03')]\n",
        "df4 = df[df['label'].str.startswith('04')]        \n",
        "\n",
        "# 전체 데이터에서 train, test 분리 (9 : 1)\n",
        "df1_train, df1_test = train_test_split(df1, test_size=0.1, random_state=123)\n",
        "df2_train, df2_test = train_test_split(df2, test_size=0.1, random_state=123)\n",
        "df3_train, df3_test = train_test_split(df3, test_size=0.1, random_state=123)\n",
        "df4_train, df4_test = train_test_split(df4, test_size=0.1, random_state=123)\n",
        "\n",
        "df_train = pd.concat([df1_train,df2_train,df3_train,df4_train])\n",
        "df_test = pd.concat([df1_test,df2_test,df3_test,df4_test])"
      ]
    },
    {
      "cell_type": "code",
      "execution_count": 5,
      "metadata": {
        "id": "rOjDEWBJ0ORP"
      },
      "outputs": [
        {
          "data": {
            "text/plain": [
              "label\n",
              "01_주장    1828\n",
              "02_사실    3203\n",
              "03_판단    5817\n",
              "04_결론    1179\n",
              "dtype: int64"
            ]
          },
          "execution_count": 5,
          "metadata": {},
          "output_type": "execute_result"
        }
      ],
      "source": [
        "#전체데이터 확인\n",
        "df.groupby('label').size()"
      ]
    },
    {
      "cell_type": "code",
      "execution_count": 6,
      "metadata": {},
      "outputs": [],
      "source": [
        "# 한국어 형태소 분석기 Okt를 사용하기 위해 import\n",
        "from konlpy.tag import Okt\n",
        "# Okt의 객체 생성\n",
        "okt = Okt()\n",
        "\n",
        "# 한국어에서 의미가 거의 없는 단어들을 불용어 처리하기 위해 집합을 만듦\n",
        "stop_words = set(['은', '는', '이', '가', '아', '하', '들', '것', '의', '있', '되', '수', '보', '주', '등', '한', '에'])"
      ]
    },
    {
      "cell_type": "code",
      "execution_count": 7,
      "metadata": {},
      "outputs": [],
      "source": [
        "# 전처리 함수\n",
        "def preprocessing(okt, review):\n",
        "  # 한글이 아닌 단어는 지우고 \" \"으로 대체\n",
        "  review_text = re.sub(\"[^가-힣ㄱ-ㅎㅏ-ㅣ]\", \" \", review)\n",
        "  # 형태소 분석을 하며 stemming 기법을 사용\n",
        "  token_li = okt.morphs(review_text, stem=True)\n",
        "  # 이전 stop_words에 포함되지 않는 단어만 clean_review에 들어갈 수 있게 함\n",
        "  clean_review = [token for token in token_li if not token in stop_words]\n",
        "  # 단어들을 ' '기준으로 이어 붙혀서 하나의 string 타입의 변수를 생성함\n",
        "  clean_review = ' '.join(clean_review)\n",
        "\n",
        "  # 전처리 완료된 문장을 return\n",
        "  return clean_review.strip()"
      ]
    },
    {
      "cell_type": "code",
      "execution_count": 8,
      "metadata": {},
      "outputs": [
        {
          "data": {
            "application/vnd.jupyter.widget-view+json": {
              "model_id": "145e205026174bfba83edc99e783553c",
              "version_major": 2,
              "version_minor": 0
            },
            "text/plain": [
              "  0%|          | 0/10823 [00:00<?, ?it/s]"
            ]
          },
          "metadata": {},
          "output_type": "display_data"
        },
        {
          "data": {
            "application/vnd.jupyter.widget-view+json": {
              "model_id": "08298c32d7ad46379b87253f9f07a8cb",
              "version_major": 2,
              "version_minor": 0
            },
            "text/plain": [
              "  0%|          | 0/1204 [00:00<?, ?it/s]"
            ]
          },
          "metadata": {},
          "output_type": "display_data"
        }
      ],
      "source": [
        "# preprocessing 함수를 적용\n",
        "df_train[\"prepro_data\"] = df_train[\"text\"].progress_apply(lambda x: preprocessing(okt, x))\n",
        "df_test[\"prepro_data\"] = df_test[\"text\"].progress_apply(lambda x: preprocessing(okt, x))"
      ]
    },
    {
      "cell_type": "code",
      "execution_count": 9,
      "metadata": {},
      "outputs": [
        {
          "name": "stdout",
          "output_type": "stream",
          "text": [
            "공백 제거 전 훈련 데이터 개수:  10823\n",
            "공백 제거 후 훈련 데이터 개수:  10821\n",
            "공백 제거 전 태스트 데이터 개수:  1204\n",
            "공백 제거 후 테스트 데이터 개수:  1204\n"
          ]
        }
      ],
      "source": [
        "# 전처리 과정에서 모든 문장이 삭제될 가능성이 있으므로, 해당 데이터 제거\n",
        "\n",
        "print(\"공백 제거 전 훈련 데이터 개수: \", len(df_train))\n",
        "train_not_empty_value = df_train[\"prepro_data\"] != \"\"\n",
        "df_train = df_train[train_not_empty_value]\n",
        "print(\"공백 제거 후 훈련 데이터 개수: \", len(df_train))\n",
        "\n",
        "print(\"공백 제거 전 태스트 데이터 개수: \", len(df_test))\n",
        "test_not_empty_value = df_test[\"prepro_data\"] != \"\"\n",
        "df_test = df_test[test_not_empty_value]\n",
        "print(\"공백 제거 후 테스트 데이터 개수: \", len(df_test))"
      ]
    },
    {
      "cell_type": "code",
      "execution_count": 10,
      "metadata": {},
      "outputs": [],
      "source": [
        "# 순서 변경\n",
        "df_train = df_train.sample(frac=1).reset_index(drop=True)\n",
        "df_test = df_test.sample(frac=1).reset_index(drop=True)\n",
        "\n",
        "# 훈련 데이터\n",
        "x_train = df_train[\"prepro_data\"].copy()\n",
        "y_train = df_train[\"label\"].copy()\n",
        "\n",
        "# 테스트 데이터\n",
        "x_test = df_test[\"prepro_data\"].copy()\n",
        "y_test = df_test[\"label\"].copy()"
      ]
    },
    {
      "cell_type": "code",
      "execution_count": 11,
      "metadata": {},
      "outputs": [],
      "source": [
        "# tfidf embedding\n"
      ]
    },
    {
      "cell_type": "code",
      "execution_count": null,
      "metadata": {},
      "outputs": [],
      "source": [
        "# modeling"
      ]
    },
    {
      "cell_type": "code",
      "execution_count": null,
      "metadata": {},
      "outputs": [],
      "source": [
        "# confusion matric 출력"
      ]
    },
    {
      "cell_type": "code",
      "execution_count": null,
      "metadata": {},
      "outputs": [],
      "source": [
        "# 결과 리포트 출력\n"
      ]
    },
    {
      "cell_type": "code",
      "execution_count": null,
      "metadata": {},
      "outputs": [],
      "source": []
    }
  ],
  "metadata": {
    "accelerator": "GPU",
    "colab": {
      "collapsed_sections": [],
      "machine_shape": "hm",
      "name": "AIHUB_판결문",
      "provenance": []
    },
    "kernelspec": {
      "display_name": "Python 3",
      "name": "python3"
    },
    "language_info": {
      "codemirror_mode": {
        "name": "ipython",
        "version": 3
      },
      "file_extension": ".py",
      "mimetype": "text/x-python",
      "name": "python",
      "nbconvert_exporter": "python",
      "pygments_lexer": "ipython3",
      "version": "3.10.4"
    }
  },
  "nbformat": 4,
  "nbformat_minor": 0
}
