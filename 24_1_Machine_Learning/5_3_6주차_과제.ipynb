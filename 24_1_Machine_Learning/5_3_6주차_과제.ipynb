{
  "nbformat": 4,
  "nbformat_minor": 0,
  "metadata": {
    "colab": {
      "provenance": []
    },
    "kernelspec": {
      "display_name": "TensorFlow 2.3 on Python 3.6 (CUDA 10.1)",
      "language": "python",
      "name": "python3"
    },
    "language_info": {
      "codemirror_mode": {
        "name": "ipython",
        "version": 3
      },
      "file_extension": ".py",
      "mimetype": "text/x-python",
      "name": "python",
      "nbconvert_exporter": "python",
      "pygments_lexer": "ipython3",
      "version": "3.6.9"
    }
  },
  "cells": [
    {
      "cell_type": "markdown",
      "source": [
        "# 데이터사이언스융합학과 2024710658 박창준"
      ],
      "metadata": {
        "id": "9eUIr-iZ7RKZ"
      }
    },
    {
      "cell_type": "markdown",
      "metadata": {
        "id": "zp6fW8MP-mrO"
      },
      "source": [
        "# 트리의 앙상블"
      ]
    },
    {
      "cell_type": "markdown",
      "metadata": {
        "id": "pv1IwHmU-mrU"
      },
      "source": [
        "<table align=\"left\">\n",
        "  <td>\n",
        "    <a target=\"_blank\" href=\"https://colab.research.google.com/github/rickiepark/hg-mldl/blob/master/5-3.ipynb\"><img src=\"https://www.tensorflow.org/images/colab_logo_32px.png\" />구글 코랩에서 실행하기</a>\n",
        "  </td>\n",
        "</table>"
      ]
    },
    {
      "cell_type": "markdown",
      "metadata": {
        "id": "dIaIAizcRSG-"
      },
      "source": [
        "## 랜덤포레스트"
      ]
    },
    {
      "cell_type": "code",
      "metadata": {
        "id": "ioJUlZ0M_uSZ"
      },
      "source": [
        "# 데이터 불러오기\n",
        "import numpy as np\n",
        "import pandas as pd\n",
        "from sklearn.model_selection import train_test_split\n",
        "\n",
        "# 온라인 링크로 데이터 불러오기 가능\n",
        "wine = pd.read_csv('https://bit.ly/wine_csv_data')\n",
        "\n",
        "# x 데이터 설정\n",
        "data = wine[['alcohol', 'sugar', 'pH']].to_numpy()\n",
        "# y 데이터 설정\n",
        "target = wine['class'].to_numpy()\n",
        "\n",
        "# train_test_split 함수 이용해서 train x, test x, train y, test y 데이터로 분리\n",
        "train_input, test_input, train_target, test_target = train_test_split(data, target, test_size=0.2, random_state=42)"
      ],
      "execution_count": null,
      "outputs": []
    },
    {
      "cell_type": "code",
      "metadata": {
        "colab": {
          "base_uri": "https://localhost:8080/"
        },
        "id": "JDKQudr7_8nu",
        "outputId": "2ae66530-b819-4c3d-ee0e-6220d75a8315"
      },
      "source": [
        "# 교차검증을 하기 위한 cross_validate 불러오기\n",
        "from sklearn.model_selection import cross_validate\n",
        "# RandomForestClassifier 불러오기\n",
        "from sklearn.ensemble import RandomForestClassifier\n",
        "\n",
        "# RandomForestClassifier 객체 생성\n",
        "# n_jobs = -1 : 로컬의 CPU 자원을 사용할 경우에 적용하는 파라미터\n",
        "rf = RandomForestClassifier(n_jobs=-1, random_state=42)\n",
        "\n",
        "# cross_validate 객체 생성\n",
        "# cross_validate(객체명, train x, train y, 기타 파라미터)\n",
        "# return_train_score : 훈련점수와 검증점수를 모두 반환하는 파라미터\n",
        "scores = cross_validate(rf, train_input, train_target, return_train_score=True, n_jobs=-1)\n",
        "\n",
        "# 학습 스코어와 테스트 스코어 출력\n",
        "print(np.mean(scores['train_score']), np.mean(scores['test_score']))\n",
        "# 학습 스코어가 너무 높음 -> 오버피팅 발생 -> 파라미터 변경 / 모델 변경 등 조치 필요"
      ],
      "execution_count": null,
      "outputs": [
        {
          "output_type": "stream",
          "name": "stdout",
          "text": [
            "0.9973541965122431 0.8905151032797809\n"
          ]
        }
      ]
    },
    {
      "cell_type": "code",
      "metadata": {
        "colab": {
          "base_uri": "https://localhost:8080/"
        },
        "id": "XYDbzXNLG8fK",
        "outputId": "b50a7402-f858-46cd-cbb2-5807f8fcc137"
      },
      "source": [
        "# 생성한 rf 객체 학습\n",
        "rf.fit(train_input, train_target)\n",
        "# 학습한 rf 모델에서의 feature_importances_ 결과 출력\n",
        "print(rf.feature_importances_)\n",
        "# Decision Tree에서보다 중요도가 덜 치우친 것 확인 가능\n",
        "# 데이터를 랜덤하게 샘플링 했기 때문 & 앙상블 모델의 효과 -> 더 많은 피처를 훈련할 수 있음 -> 과대적합 감소 및 성능 향상"
      ],
      "execution_count": null,
      "outputs": [
        {
          "output_type": "stream",
          "name": "stdout",
          "text": [
            "[0.23167441 0.50039841 0.26792718]\n"
          ]
        }
      ]
    },
    {
      "cell_type": "code",
      "metadata": {
        "colab": {
          "base_uri": "https://localhost:8080/"
        },
        "id": "oMc06S1Fa_A-",
        "outputId": "25829014-9769-48cc-bd2f-0992d75f26af"
      },
      "source": [
        "# RandomForestClassifier 객체 생성\n",
        "# oob_score = True : Out of bags (훈련에서 사용하지 않은 샘플을 의미)\n",
        "# 중복을 허용하여 데이터 subset을 구성하기 때문에, 사용하지 않은 데이터가 존재할 수 있음\n",
        "# 이러한 데이터를 검증에 활용\n",
        "rf = RandomForestClassifier(oob_score=True, n_jobs=-1, random_state=42)\n",
        "\n",
        "# 생성한 rf 객체 학습\n",
        "rf.fit(train_input, train_target)\n",
        "# oob를 활용한 검증 스코어 출력\n",
        "print(rf.oob_score_)"
      ],
      "execution_count": null,
      "outputs": [
        {
          "output_type": "stream",
          "name": "stdout",
          "text": [
            "0.8934000384837406\n"
          ]
        }
      ]
    },
    {
      "cell_type": "markdown",
      "metadata": {
        "id": "KdrVoeQZRU14"
      },
      "source": [
        "## 엑스트라트리"
      ]
    },
    {
      "cell_type": "code",
      "metadata": {
        "colab": {
          "base_uri": "https://localhost:8080/"
        },
        "id": "noMLdywdOGrE",
        "outputId": "d57856db-52d3-4ee3-e63e-ce22717b4e72"
      },
      "source": [
        "# ExtraTreesClassifier 불러오기\n",
        "# ExtraTreesRegressor : 엑스트라 트리 회귀 모델(참고)\n",
        "from sklearn.ensemble import ExtraTreesClassifier\n",
        "\n",
        "# ExtraTreesClassifier 객체 생성\n",
        "# n_jobs = -1 : 로컬의 CPU 자원을 사용할 경우에 적용하는 파라미터\n",
        "et = ExtraTreesClassifier(n_jobs=-1, random_state=42)\n",
        "\n",
        "# cross_validate 객체 생성\n",
        "# cross_validate(객체명, train x, train y, 기타 파라미터)\n",
        "# return_train_score : 훈련점수와 검증점수를 모두 반환하는 파라미터\n",
        "scores = cross_validate(et, train_input, train_target, return_train_score=True, n_jobs=-1)\n",
        "\n",
        "# 학습 스코어와 테스트 스코어 출력\n",
        "print(np.mean(scores['train_score']), np.mean(scores['test_score']))\n",
        "# rf와 비슷한 결과 : 학습 스코어가 너무 높음 -> 오버피팅"
      ],
      "execution_count": null,
      "outputs": [
        {
          "output_type": "stream",
          "name": "stdout",
          "text": [
            "0.9974503966084433 0.8887848893166506\n"
          ]
        }
      ]
    },
    {
      "cell_type": "code",
      "metadata": {
        "colab": {
          "base_uri": "https://localhost:8080/"
        },
        "id": "HnB0_mBqfcXL",
        "outputId": "e3be31ce-cd9a-4ada-b98f-4d72f4fe7e1c"
      },
      "source": [
        "# 생성한 et 객체 학습\n",
        "et.fit(train_input, train_target)\n",
        "# 학습한 et 모델에서의 feature_importances_ 결과 출력\n",
        "print(et.feature_importances_)\n",
        "# 역시나 rf와 비슷한 결과 나옴"
      ],
      "execution_count": null,
      "outputs": [
        {
          "output_type": "stream",
          "name": "stdout",
          "text": [
            "[0.20183568 0.52242907 0.27573525]\n"
          ]
        }
      ]
    },
    {
      "cell_type": "markdown",
      "metadata": {
        "id": "csKxnaxeRX8s"
      },
      "source": [
        "## 그레이디언트 부스팅"
      ]
    },
    {
      "cell_type": "code",
      "metadata": {
        "colab": {
          "base_uri": "https://localhost:8080/"
        },
        "id": "_IlNEFkaNsoG",
        "outputId": "1c51b459-df5c-4e72-f3a0-81b601615157"
      },
      "source": [
        "# GradientBoostingClassifier 불러오기\n",
        "from sklearn.ensemble import GradientBoostingClassifier\n",
        "\n",
        "# GradientBoostingClassifier 객체 생성\n",
        "gb = GradientBoostingClassifier(random_state=42)\n",
        "\n",
        "# cross_validate 객체 생성\n",
        "# cross_validate(객체명, train x, train y, 기타 파라미터)\n",
        "# return_train_score : 훈련점수와 검증점수를 모두 반환하는 파라미터\n",
        "scores = cross_validate(gb, train_input, train_target, return_train_score=True, n_jobs=-1)\n",
        "\n",
        "# 학습 스코어와 테스트 스코어 출력\n",
        "print(np.mean(scores['train_score']), np.mean(scores['test_score']))\n",
        "# rf와 et에서의 오버피팅이 해결됨 -> 깊이가 얕은 트리를 사용했기 때문"
      ],
      "execution_count": null,
      "outputs": [
        {
          "output_type": "stream",
          "name": "stdout",
          "text": [
            "0.8881086892152563 0.8720430147331015\n"
          ]
        }
      ]
    },
    {
      "cell_type": "code",
      "metadata": {
        "colab": {
          "base_uri": "https://localhost:8080/"
        },
        "id": "pNpeS8EWpeEi",
        "outputId": "b1f82351-e37e-4295-a185-5cc65de30d51"
      },
      "source": [
        "# GradientBoostingClassifier 객체 생성\n",
        "# 성능 향상을 위해 n_estimators 변경 (100 -> 500), learning_rate 변경 (0.1 -> 0.2)\n",
        "gb = GradientBoostingClassifier(n_estimators=500, learning_rate=0.2, random_state=42)\n",
        "\n",
        "# cross_validate 객체 생성\n",
        "# cross_validate(객체명, train x, train y, 기타 파라미터)\n",
        "# return_train_score : 훈련점수와 검증점수를 모두 반환하는 파라미터\n",
        "scores = cross_validate(gb, train_input, train_target, return_train_score=True, n_jobs=-1)\n",
        "\n",
        "# 학습 스코어와 테스트 스코어 출력\n",
        "print(np.mean(scores['train_score']), np.mean(scores['test_score']))\n",
        "# 학습 스코어와 테스트 스코어 모두 약간 향상됨"
      ],
      "execution_count": null,
      "outputs": [
        {
          "output_type": "stream",
          "name": "stdout",
          "text": [
            "0.9464595437171814 0.8780082549788999\n"
          ]
        }
      ]
    },
    {
      "cell_type": "code",
      "metadata": {
        "colab": {
          "base_uri": "https://localhost:8080/"
        },
        "id": "qD6iWVsGqCAE",
        "outputId": "b29c82b0-107d-4033-d2a4-f159bb8fd0ed"
      },
      "source": [
        "# 생성한 gb 객체 학습\n",
        "gb.fit(train_input, train_target)\n",
        "# 학습한 gb 모델에서의 feature_importances_ 결과 출력\n",
        "print(gb.feature_importances_)\n",
        "# rf나 et보다 중요한 피처에 집중하는 경향 확인\n",
        "# 이건 값의 잔차 보완에 집중하는 과정에서 중요한 피처의 영향 커짐"
      ],
      "execution_count": null,
      "outputs": [
        {
          "output_type": "stream",
          "name": "stdout",
          "text": [
            "[0.15872278 0.68010884 0.16116839]\n"
          ]
        }
      ]
    },
    {
      "cell_type": "markdown",
      "metadata": {
        "id": "BthW_II9RbLa"
      },
      "source": [
        "## 히스토그램 기반 부스팅"
      ]
    },
    {
      "cell_type": "markdown",
      "metadata": {
        "id": "8fz_FrezBezR"
      },
      "source": [
        "#### XGBoost"
      ]
    },
    {
      "cell_type": "code",
      "metadata": {
        "colab": {
          "base_uri": "https://localhost:8080/"
        },
        "id": "YBYLvOiV6rga",
        "outputId": "79b65ade-ac2d-400f-e96e-a6d76dbfae52"
      },
      "source": [
        "# XGBClassifier 불러오기\n",
        "from xgboost import XGBClassifier\n",
        "\n",
        "# XGBClassifier 객체 생성\n",
        "# tree_method='hist' : 데이터를 구간으로 묶어서, 그 안에서 best split 찾는 것을 의미\n",
        "# tree_method='auto' : 데이터 개숭 따라 자동으로 설정\n",
        "# tree_method='exact' : 데이터 전수조사를 의미\n",
        "# tree_method='gpu_hist' : gpu를 사용해 hist 방식 적용 -> 속도가 더 빠름\n",
        "# tree_method='approx' : hist와 유사한 방식에 약간의 가중치를 고려한 방식\n",
        "xgb = XGBClassifier(tree_method='hist', random_state=42)\n",
        "\n",
        "# cross_validate 객체 생성\n",
        "# cross_validate(객체명, train x, train y, 기타 파라미터)\n",
        "# return_train_score : 훈련점수와 검증점수를 모두 반환하는 파라미터\n",
        "scores = cross_validate(xgb, train_input, train_target, return_train_score=True, n_jobs=-1)\n",
        "\n",
        "# 학습 스코어와 테스트 스코어 출력\n",
        "print(np.mean(scores['train_score']), np.mean(scores['test_score']))"
      ],
      "execution_count": null,
      "outputs": [
        {
          "output_type": "stream",
          "name": "stdout",
          "text": [
            "0.9558403027491312 0.8782000074035686\n"
          ]
        }
      ]
    },
    {
      "cell_type": "markdown",
      "metadata": {
        "id": "zl6nh6DOBd-B"
      },
      "source": [
        "#### LightGBM"
      ]
    },
    {
      "cell_type": "code",
      "metadata": {
        "colab": {
          "base_uri": "https://localhost:8080/"
        },
        "id": "maihlDMP7lmY",
        "outputId": "511e4b62-fc1c-4873-da77-0cc07a2fb994"
      },
      "source": [
        "# LGBMClassifier 불러오기\n",
        "from lightgbm import LGBMClassifier\n",
        "\n",
        "# LGBMClassifier 객체 생성\n",
        "lgb = LGBMClassifier(random_state=42)\n",
        "# cross_validate 객체 생성\n",
        "# cross_validate(객체명, train x, train y, 기타 파라미터)\n",
        "# return_train_score : 훈련점수와 검증점수를 모두 반환하는 파라미터\n",
        "scores = cross_validate(lgb, train_input, train_target, return_train_score=True, n_jobs=-1)\n",
        "\n",
        "# 학습 스코어와 테스트 스코어 출력\n",
        "print(np.mean(scores['train_score']), np.mean(scores['test_score']))"
      ],
      "execution_count": null,
      "outputs": [
        {
          "output_type": "stream",
          "name": "stdout",
          "text": [
            "0.935828414851749 0.8801251203079884\n"
          ]
        }
      ]
    }
  ]
}